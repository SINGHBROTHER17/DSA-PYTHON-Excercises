{
  "nbformat": 4,
  "nbformat_minor": 0,
  "metadata": {
    "colab": {
      "provenance": [],
      "authorship_tag": "ABX9TyM+xywjbX2c3KRYfAQVEPmQ",
      "include_colab_link": true
    },
    "kernelspec": {
      "name": "python3",
      "display_name": "Python 3"
    },
    "language_info": {
      "name": "python"
    }
  },
  "cells": [
    {
      "cell_type": "markdown",
      "metadata": {
        "id": "view-in-github",
        "colab_type": "text"
      },
      "source": [
        "<a href=\"https://colab.research.google.com/github/SINGHBROTHER17/DSA-PYTHON-Excercises/blob/Chapter-1/C1_13.ipynb\" target=\"_parent\"><img src=\"https://colab.research.google.com/assets/colab-badge.svg\" alt=\"Open In Colab\"/></a>"
      ]
    },
    {
      "cell_type": "markdown",
      "source": [
        "C-1.13 Write a pseudo-code description of a function that reverses a list of n\n",
        "integers, so that the numbers are listed in the opposite order than they\n",
        "were before, and compare this method to an equivalent Python function\n",
        "for doing the same thing."
      ],
      "metadata": {
        "id": "5Ax4NrpOdvfY"
      }
    },
    {
      "cell_type": "code",
      "execution_count": null,
      "metadata": {
        "colab": {
          "base_uri": "https://localhost:8080/"
        },
        "id": "ynIArMz2dr36",
        "outputId": "87ed6a21-8e65-47df-f9aa-08ce710f28fb"
      },
      "outputs": [
        {
          "output_type": "stream",
          "name": "stdout",
          "text": [
            "[6, 5, 4, 3, 2, 1]\n",
            "[6, 5, 4, 3, 2, 1]\n"
          ]
        }
      ],
      "source": [
        "def rev_list(data):\n",
        "  rev=[data[-k] for k in range(1,len(data)+1)]\n",
        "  return(rev)\n",
        "\n",
        "data=[1,2,3,4,5,6]\n",
        "print(rev_list(data))\n",
        "data.reverse()\n",
        "print(data)"
      ]
    },
    {
      "cell_type": "markdown",
      "source": [
        "C-1.14 Write a short Python function that takes a sequence of integer values and\n",
        "determines if there is a distinct pair of numbers in the sequence whose\n",
        "product is odd."
      ],
      "metadata": {
        "id": "5GVULEErfL51"
      }
    },
    {
      "cell_type": "code",
      "source": [
        "def odd_prod(data):\n",
        "  unique_pairs = set()\n",
        "  for i in data:\n",
        "    for j in data:\n",
        "      if i!=j and i*j%2==1:\n",
        "        k=tuple(sorted([i,j])) # Convert to tuple to be hashable for set\n",
        "        unique_pairs.add(k)\n",
        "  return(list(unique_pairs)) # Convert back to list for printing\n",
        "\n",
        "distinct = odd_prod([1,2,3,4,5,6,7,8,9])\n",
        "print(distinct)"
      ],
      "metadata": {
        "id": "hBd1X0cQfPec",
        "colab": {
          "base_uri": "https://localhost:8080/"
        },
        "outputId": "440d21f5-0276-48c0-c829-0ac28d50e5b6"
      },
      "execution_count": null,
      "outputs": [
        {
          "output_type": "stream",
          "name": "stdout",
          "text": [
            "[(1, 5), (3, 7), (5, 7), (7, 9), (1, 7), (3, 9), (5, 9), (1, 3), (1, 9), (3, 5)]\n"
          ]
        }
      ]
    },
    {
      "cell_type": "markdown",
      "source": [
        "C-1.15 Write a Python function that takes a sequence of numbers and determines\n",
        "if all the numbers are different from each other (that is, they are distinct)."
      ],
      "metadata": {
        "id": "fzILxlOnQ4zG"
      }
    },
    {
      "cell_type": "code",
      "source": [
        "def disc(data):\n",
        "  unique_pairs = set()\n",
        "  for i in data:\n",
        "    unique_pairs.add(i)\n",
        "  return(len(unique_pairs)==len(data))\n",
        "\n",
        "distinct = disc([1,2,3,4,5,6,7,8,8])\n",
        "print(distinct)\n"
      ],
      "metadata": {
        "colab": {
          "base_uri": "https://localhost:8080/"
        },
        "id": "ad2vTwXJQ-Ku",
        "outputId": "7ece79b2-bf99-4ef4-bee6-85696b862b2a"
      },
      "execution_count": null,
      "outputs": [
        {
          "output_type": "stream",
          "name": "stdout",
          "text": [
            "False\n"
          ]
        }
      ]
    },
    {
      "cell_type": "markdown",
      "source": [
        "C-1.16 In our implementation of the scale function (page 25), the body of the loop\n",
        "executes the command data[j]*= factor. We have discussed that numeric\n",
        "types are immutable, and that use of the *= operator in this context causes\n",
        "the creation of a new instance (not the mutation of an existing instance).\n",
        "How is it still possible, then, that our implementation of scale changes the\n",
        "actual parameter sent by the caller?"
      ],
      "metadata": {
        "id": "3j4bn1fYRwGO"
      }
    },
    {
      "cell_type": "markdown",
      "source": [
        "ANS:\n",
        "\n",
        "def scale(data, factor):\n",
        "\n",
        "for j in range(len(data)):\n",
        "\n",
        "data[j] = factor\n",
        "\n",
        "This is because even though integer type is immutable but the list is mutable and it points to the changed object."
      ],
      "metadata": {
        "id": "-TjbvfyvR_wK"
      }
    },
    {
      "cell_type": "markdown",
      "source": [
        "C-1.17 Had we implemented the scale function (page 25) as follows, does it work\n",
        "properly?\n",
        "\n",
        "def scale(data, factor):\n",
        "\n",
        "for val in data:\n",
        "\n",
        "val *= factor\n",
        "\n",
        "Explain why or why not."
      ],
      "metadata": {
        "id": "Tmse2t0ETrJt"
      }
    },
    {
      "cell_type": "code",
      "source": [
        "def scale(data, factor):\n",
        "  for val in data:\n",
        "    val *= factor\n",
        "  print(data)\n",
        "\n",
        "\n",
        "scale([1,2,3,4,5],2)"
      ],
      "metadata": {
        "colab": {
          "base_uri": "https://localhost:8080/"
        },
        "id": "6Wy6tSt5Twd8",
        "outputId": "9debaee1-5dbb-4bed-8372-714b162ffe34"
      },
      "execution_count": null,
      "outputs": [
        {
          "output_type": "stream",
          "name": "stdout",
          "text": [
            "[1, 2, 3, 4, 5]\n"
          ]
        }
      ]
    },
    {
      "cell_type": "markdown",
      "source": [
        "C-1.18 Demonstrate how to use Python’s list comprehension syntax to produce\n",
        "the list [0, 2, 6, 12, 20, 30, 42, 56, 72, 90]."
      ],
      "metadata": {
        "id": "FN0aZp9SUTsD"
      }
    },
    {
      "cell_type": "code",
      "source": [
        "def randlist():\n",
        "  return([k*(k+1) for k in range(10)])\n",
        "\n",
        "print(randlist())"
      ],
      "metadata": {
        "colab": {
          "base_uri": "https://localhost:8080/"
        },
        "id": "trwoT8hoUXvr",
        "outputId": "a45643f3-0d07-43e9-9c96-246a3138c93e"
      },
      "execution_count": null,
      "outputs": [
        {
          "output_type": "stream",
          "name": "stdout",
          "text": [
            "[0, 2, 6, 12, 20, 30, 42, 56, 72, 90]\n"
          ]
        }
      ]
    },
    {
      "cell_type": "markdown",
      "source": [
        "C-1.19 Demonstrate how to use Python’s list comprehension syntax to produce\n",
        "the list [ a , b , c , ..., z ], but without having to type all 26 such\n",
        "characters literally."
      ],
      "metadata": {
        "id": "EJXMGnquWOsy"
      }
    },
    {
      "cell_type": "code",
      "source": [
        "def alphabets():\n",
        "  return([chr(k) for k in range(97,123)])\n",
        "\n",
        "print(alphabets())"
      ],
      "metadata": {
        "colab": {
          "base_uri": "https://localhost:8080/"
        },
        "id": "Zu8U5pPKWPfZ",
        "outputId": "f410be3e-f3d7-44fc-ae37-691394ec260c"
      },
      "execution_count": null,
      "outputs": [
        {
          "output_type": "stream",
          "name": "stdout",
          "text": [
            "['a', 'b', 'c', 'd', 'e', 'f', 'g', 'h', 'i', 'j', 'k', 'l', 'm', 'n', 'o', 'p', 'q', 'r', 's', 't', 'u', 'v', 'w', 'x', 'y', 'z']\n"
          ]
        }
      ]
    },
    {
      "cell_type": "markdown",
      "source": [
        "C-1.20 Python’s random module includes a function shuffle(data) that accepts a\n",
        "list of elements and randomly reorders the elements so that each possible\n",
        "order occurs with equal probability. The random module includes a\n",
        "more basic function randint(a, b) that returns a uniformly random integer\n",
        "from a to b (including both endpoints). Using only the randint function,\n",
        "implement your own version of the shuffle function."
      ],
      "metadata": {
        "id": "suLN8OEBWzGX"
      }
    },
    {
      "cell_type": "code",
      "source": [
        "from random import randint\n",
        "def shuffle(data):\n",
        "  for i in range(len(data)-1,0,-1):\n",
        "    j=randint(0,i+1)\n",
        "    data[i],data[j]=data[j],data[i]\n",
        "  return(data)\n",
        "\n",
        "shuffle([1,2,3,4,5,6,7,8,9])"
      ],
      "metadata": {
        "colab": {
          "base_uri": "https://localhost:8080/"
        },
        "id": "vrsaqcjYW2Ff",
        "outputId": "b8288ab9-bbd2-4bb3-a43d-2eee804f70eb"
      },
      "execution_count": null,
      "outputs": [
        {
          "output_type": "execute_result",
          "data": {
            "text/plain": [
              "[9, 3, 2, 1, 6, 5, 4, 7, 8]"
            ]
          },
          "metadata": {},
          "execution_count": 44
        }
      ]
    },
    {
      "cell_type": "markdown",
      "source": [
        "C-1.21 Write a Python program that repeatedly reads lines from standard input\n",
        "until an EOFError is raised, and then outputs those lines in reverse order\n",
        "(a user can indicate end of input by typing ctrl-D)."
      ],
      "metadata": {
        "id": "MY9NdM_NYd8d"
      }
    },
    {
      "cell_type": "code",
      "source": [
        "Rev=[]\n",
        "try:\n",
        "  readline=input()\n",
        "  while readline!='':\n",
        "    Rev.append(readline)\n",
        "    readline=input()\n",
        "except EOFError:\n",
        "  print(k for k in Rev)\n",
        "  raise\n",
        "\n"
      ],
      "metadata": {
        "id": "nI3Lbwr2YgHe"
      },
      "execution_count": null,
      "outputs": []
    },
    {
      "cell_type": "markdown",
      "source": [
        "C-1.22 Write a short Python program that takes two arrays a and b of length n\n",
        "storing int values, and returns the dot product of a and b. That is, it returns\n",
        "an array c of length n such that c[i] = a[i] · b[i], for i = 0, . . . ,n−1."
      ],
      "metadata": {
        "id": "SXf9vI494QoE"
      }
    },
    {
      "cell_type": "code",
      "source": [
        "def dotprod(a,b):\n",
        "  yield([a[i]*b[i] for i in range(len(a))])\n",
        "\n",
        "a=[1,2,3,4,5]\n",
        "b=[6,7,8,9,10]\n",
        "print(list(dotprod(a,b)))"
      ],
      "metadata": {
        "colab": {
          "base_uri": "https://localhost:8080/"
        },
        "id": "i-BCdETl4bMZ",
        "outputId": "f024ffff-9cb5-4267-efe0-e8902caf8174"
      },
      "execution_count": null,
      "outputs": [
        {
          "output_type": "stream",
          "name": "stdout",
          "text": [
            "[[6, 14, 24, 36, 50]]\n"
          ]
        }
      ]
    },
    {
      "cell_type": "markdown",
      "source": [
        "C-1.23 Give an example of a Python code fragment that attempts to write an element\n",
        "to a list based on an index that may be out of bounds. If that index\n",
        "is out of bounds, the program should catch the exception that results, and\n",
        "print the following error message:\n",
        "“Don’t try buffer overflow attacks in Python!”"
      ],
      "metadata": {
        "id": "A5QH4C8QBCAE"
      }
    },
    {
      "cell_type": "code",
      "source": [
        "def add_element(list1,index,element):\n",
        "  try:\n",
        "    list1[index]=element\n",
        "  except IndexError as e:\n",
        "    print(\"Don’t try buffer overflow attacks in Python!\",e)\n",
        "\n",
        "list1=[1,2,3,4,5]\n",
        "add_element(list1,10,6)\n"
      ],
      "metadata": {
        "colab": {
          "base_uri": "https://localhost:8080/"
        },
        "id": "Gmk5TOGGBSOE",
        "outputId": "140f6a92-1650-4a1d-d1c3-aed4f1234924"
      },
      "execution_count": null,
      "outputs": [
        {
          "output_type": "stream",
          "name": "stdout",
          "text": [
            "Don’t try buffer overflow attacks in Python! list assignment index out of range\n"
          ]
        }
      ]
    },
    {
      "cell_type": "markdown",
      "source": [
        "C-1.24 Write a short Python function that counts the number of vowels in a given\n",
        "character string."
      ],
      "metadata": {
        "id": "ILzyijOICulx"
      }
    },
    {
      "cell_type": "code",
      "source": [
        "def count_vowel(string):\n",
        "  return([k for k in string if k in ['a','e','i','o','u']])\n",
        "\n",
        "string='hello world'\n",
        "print(len(count_vowel(string)))\n",
        "\n"
      ],
      "metadata": {
        "id": "WhDSsL6FC0cN",
        "colab": {
          "base_uri": "https://localhost:8080/"
        },
        "outputId": "c28866f3-827a-4de3-af07-39aaedd519b5"
      },
      "execution_count": 18,
      "outputs": [
        {
          "output_type": "stream",
          "name": "stdout",
          "text": [
            "3\n"
          ]
        }
      ]
    },
    {
      "cell_type": "markdown",
      "source": [
        "C-1.25 Write a short Python function that takes a string s, representing a sentence,\n",
        "and returns a copy of the string with all punctuation removed. For example,\n",
        "if given the string \"Let s try, Mike.\", this function would return\n",
        "\"Lets try Mike\"."
      ],
      "metadata": {
        "id": "V40vxWmFfQFv"
      }
    },
    {
      "cell_type": "code",
      "source": [
        "def remove_punc(s):\n",
        "  i=len(s)-1\n",
        "  while (i>0):\n",
        "    if s[i] in [',','.',\"'\"]:\n",
        "      s=s[:i]+s[i+1:]\n",
        "    i-=1\n",
        "  return(s)\n",
        "\n",
        "s=\"hey, can't i come with u.\"\n",
        "print(remove_punc(s))"
      ],
      "metadata": {
        "colab": {
          "base_uri": "https://localhost:8080/"
        },
        "id": "knfeGSbsfQre",
        "outputId": "d3a7897f-86ee-4f3e-d08e-c88620360b12"
      },
      "execution_count": 24,
      "outputs": [
        {
          "output_type": "stream",
          "name": "stdout",
          "text": [
            "hey cant i come with u\n"
          ]
        }
      ]
    },
    {
      "cell_type": "markdown",
      "source": [
        "C-1.26 Write a short program that takes as input three integers, a, b, and c, from\n",
        "the console and determines if they can be used in a correct arithmetic\n",
        "formula (in the given order), like “a+b = c,” “a = b−c,” or “a ∗ b = c.”"
      ],
      "metadata": {
        "id": "xkJHX7MCjQGd"
      }
    },
    {
      "cell_type": "code",
      "source": [
        "a=int(input('Enter a:'))\n",
        "b=int(input('Enter b:'))\n",
        "c=int(input('Enter c1:'))\n",
        "if a+b==c:\n",
        "  print('a+b=c')\n",
        "if a==b-c:\n",
        "  print('a=b-c')\n",
        "if a*b==c:\n",
        "  print('a*b=c')"
      ],
      "metadata": {
        "colab": {
          "base_uri": "https://localhost:8080/"
        },
        "id": "Mte9U667jQj6",
        "outputId": "91a954cd-e092-4239-d675-3f7fdf6c812f"
      },
      "execution_count": 27,
      "outputs": [
        {
          "output_type": "stream",
          "name": "stdout",
          "text": [
            "Enter a:-4\n",
            "Enter b:-1\n",
            "Enter c1:4\n",
            "a*b=c\n"
          ]
        }
      ]
    },
    {
      "cell_type": "markdown",
      "source": [
        "C-1.27 In Section 1.8, we provided three different implementations of a generator\n",
        "that computes factors of a given integer. The third of those implementations,\n",
        "from page 41, was the most efficient, but we noted that it did not\n",
        "yield the factors in increasing order. Modify the generator so that it reports\n",
        "factors in increasing order, while maintaining its general performance advantages."
      ],
      "metadata": {
        "id": "ben7NJrSlrcJ"
      }
    },
    {
      "cell_type": "code",
      "source": [
        "def factors(n): # generator that computes factors in increasing order\n",
        "  k = 1\n",
        "  factors_less_than_sqrt = []\n",
        "  factors_greater_than_sqrt = []\n",
        "  while k*k < n: # while k < sqrt(n)\n",
        "    if n % k == 0:\n",
        "      yield k\n",
        "      factors_greater_than_sqrt.append(n // k)\n",
        "    k+= 1\n",
        "  if k*k == n: # special case if n is perfect square\n",
        "    yield k\n",
        "  for factor in reversed(factors_greater_than_sqrt):\n",
        "    yield factor\n",
        "\n",
        "list_factors=[k for k in factors(25)]\n",
        "print(list_factors)\n",
        "\n",
        "list_factors_large = [k for k in factors(100)]\n",
        "print(list_factors_large)\n",
        "\n",
        "list_factors_prime = [k for k in factors(7)]\n",
        "print(list_factors_prime)"
      ],
      "metadata": {
        "colab": {
          "base_uri": "https://localhost:8080/"
        },
        "id": "I2SwnbykluA4",
        "outputId": "10219f96-9560-49c3-c75c-c551f966b0df"
      },
      "execution_count": 38,
      "outputs": [
        {
          "output_type": "stream",
          "name": "stdout",
          "text": [
            "[1, 5, 25]\n",
            "[1, 2, 4, 5, 10, 20, 25, 50, 100]\n",
            "[1, 7]\n"
          ]
        }
      ]
    },
    {
      "cell_type": "markdown",
      "source": [
        "C-1.28 The p-norm of a vector v = (v1,v2, . . . ,vn) in n-dimensional space is defined\n",
        "as\n",
        "\u0007v\u0007 =\n",
        "p \u0002\n",
        "vp\n",
        "1 +vp\n",
        "2 +· · ·+vp\n",
        "n .\n",
        "For the special case of p = 2, this results in the traditional Euclidean\n",
        "norm, which represents the length of the vector. For example, the Euclidean\n",
        "norm of a two-dimensional vector with coordinates (4,3) has a\n",
        "Euclidean norm of\n",
        "√\n",
        "42+32 =\n",
        "√\n",
        "16+9 =\n",
        "√\n",
        "25 = 5. Give an implementation\n",
        "of a function named norm such that norm(v, p) returns the p-norm\n",
        "value of v and norm(v) returns the Euclidean norm of v. You may assume\n",
        "that v is a list of numbers."
      ],
      "metadata": {
        "id": "iDskPyh6qkSm"
      }
    },
    {
      "cell_type": "code",
      "source": [
        "def norm(v,p=2):\n",
        "  for i in range(len(v)):\n",
        "    v[i]=v[i]**p\n",
        "  return(sum(v)**(1/p))\n",
        "\n",
        "norm([4,3,4,5],4)\n"
      ],
      "metadata": {
        "colab": {
          "base_uri": "https://localhost:8080/"
        },
        "id": "nSZxPVU1qlcf",
        "outputId": "4906eb67-d951-4047-aa79-67a93dbe10eb"
      },
      "execution_count": 40,
      "outputs": [
        {
          "output_type": "execute_result",
          "data": {
            "text/plain": [
              "5.9076100694976725"
            ]
          },
          "metadata": {},
          "execution_count": 40
        }
      ]
    }
  ]
}