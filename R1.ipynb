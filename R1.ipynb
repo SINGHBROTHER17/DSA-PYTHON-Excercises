{
  "nbformat": 4,
  "nbformat_minor": 0,
  "metadata": {
    "colab": {
      "provenance": [],
      "authorship_tag": "ABX9TyM27if7rOMhKM6P+Ohxv/NM",
      "include_colab_link": true
    },
    "kernelspec": {
      "name": "python3",
      "display_name": "Python 3"
    },
    "language_info": {
      "name": "python"
    }
  },
  "cells": [
    {
      "cell_type": "markdown",
      "metadata": {
        "id": "view-in-github",
        "colab_type": "text"
      },
      "source": [
        "<a href=\"https://colab.research.google.com/github/SINGHBROTHER17/DSA-PYTHON-Excercises/blob/Chapter-1/R1.ipynb\" target=\"_parent\"><img src=\"https://colab.research.google.com/assets/colab-badge.svg\" alt=\"Open In Colab\"/></a>"
      ]
    },
    {
      "cell_type": "markdown",
      "source": [
        "R-1.1 Write a short Python function, is multiple(n, m), that takes two integer\n",
        "values and returns True if n is a multiple of m, that is, n = mi for some\n",
        "integer i, and False otherwise."
      ],
      "metadata": {
        "id": "OnlqL94NK_MN"
      }
    },
    {
      "cell_type": "code",
      "execution_count": null,
      "metadata": {
        "colab": {
          "base_uri": "https://localhost:8080/"
        },
        "id": "00SVOCWDJXqc",
        "outputId": "e7d7fb59-e09c-4830-886b-9edf60c6bd81"
      },
      "outputs": [
        {
          "output_type": "stream",
          "name": "stdout",
          "text": [
            "True\n"
          ]
        }
      ],
      "source": [
        "def is_multiple(n,m):\n",
        "  return(True if n%m==0 else False)\n",
        "\n",
        "print(is_multiple(6,3))\n"
      ]
    },
    {
      "cell_type": "markdown",
      "source": [
        "R-1.2 Write a short Python function, is even(k), that takes an integer value and\n",
        "returns True if k is even, and False otherwise. However, your function\n",
        "cannot use the multiplication, modulo, or division operators"
      ],
      "metadata": {
        "id": "eU-8qKxrLJtF"
      }
    },
    {
      "cell_type": "code",
      "source": [
        "def is_even(k):\n",
        "  return(True if k>=0 and (str(k))[-1] in ('0','2','4','6','8') else False)\n",
        "\n",
        "is_even(26)"
      ],
      "metadata": {
        "colab": {
          "base_uri": "https://localhost:8080/"
        },
        "id": "KleuoR4VLQEo",
        "outputId": "f92b44fb-b544-41f1-d59d-fffbf7b414f4"
      },
      "execution_count": null,
      "outputs": [
        {
          "output_type": "execute_result",
          "data": {
            "text/plain": [
              "True"
            ]
          },
          "metadata": {},
          "execution_count": 14
        }
      ]
    },
    {
      "cell_type": "markdown",
      "source": [
        "R-1.3 Write a short Python function, minmax(data), that takes a sequence of\n",
        "one or more numbers, and returns the smallest and largest numbers, in the\n",
        "form of a tuple of length two. Do not use the built-in functions min or\n",
        "max in implementing your solution."
      ],
      "metadata": {
        "id": "zYTxZ2b7MjTo"
      }
    },
    {
      "cell_type": "code",
      "source": [
        "def minmax(data):\n",
        "  data.sort()\n",
        "  return(data[0],data[-1])\n",
        "\n",
        "minmax([1,2,3,4,5,-1,0])"
      ],
      "metadata": {
        "colab": {
          "base_uri": "https://localhost:8080/"
        },
        "id": "yZLES0b7Mnm4",
        "outputId": "fe84279a-0be4-47a8-8c2d-4c61f9a67722"
      },
      "execution_count": null,
      "outputs": [
        {
          "output_type": "execute_result",
          "data": {
            "text/plain": [
              "(-1, 5)"
            ]
          },
          "metadata": {},
          "execution_count": 23
        }
      ]
    },
    {
      "cell_type": "code",
      "source": [
        "#alternate\n",
        "def minmax(data):\n",
        "  max=data[0]\n",
        "  min=data[-1]\n",
        "  for i in data:\n",
        "    if i>max:\n",
        "      max=i\n",
        "    elif i<min:\n",
        "      min=i\n",
        "  return(min,max)\n",
        "minmax((2,4,5,6,1,0,-23))\n"
      ],
      "metadata": {
        "colab": {
          "base_uri": "https://localhost:8080/"
        },
        "id": "pz0JUGSkSN_P",
        "outputId": "467eca45-6915-45ac-d500-59d3034b9a5e"
      },
      "execution_count": null,
      "outputs": [
        {
          "output_type": "execute_result",
          "data": {
            "text/plain": [
              "(-23, 6)"
            ]
          },
          "metadata": {},
          "execution_count": 22
        }
      ]
    },
    {
      "cell_type": "markdown",
      "source": [
        "R-1.4 Write a short Python function that takes a positive integer n and returns\n",
        "the sum of the squares of all the positive integers smaller than n."
      ],
      "metadata": {
        "id": "Q-9Vf3NKUDxz"
      }
    },
    {
      "cell_type": "code",
      "source": [
        "def sqrsum(n):\n",
        "  return(sum(k*k for k in range(n)))\n",
        "\n",
        "sqrsum(5)"
      ],
      "metadata": {
        "id": "dhUwYopgUFLQ",
        "colab": {
          "base_uri": "https://localhost:8080/"
        },
        "outputId": "93fbd4dd-5ff0-476f-ad9a-b53621f323bb"
      },
      "execution_count": 26,
      "outputs": [
        {
          "output_type": "execute_result",
          "data": {
            "text/plain": [
              "30"
            ]
          },
          "metadata": {},
          "execution_count": 26
        }
      ]
    },
    {
      "cell_type": "markdown",
      "source": [
        "R-1.5 Give a single command that computes the sum from Exercise R-1.4, relying\n",
        "on Python’s comprehension syntax and the built-in sum function."
      ],
      "metadata": {
        "id": "I9g5M_ZsX1RM"
      }
    },
    {
      "cell_type": "code",
      "source": [
        "def sqrsum(n):\n",
        "  return(sum(k*k for k in range(n)))\n",
        "\n",
        "sqrsum(5)"
      ],
      "metadata": {
        "colab": {
          "base_uri": "https://localhost:8080/"
        },
        "id": "BDAPmLJ3X7c8",
        "outputId": "4aa0b37a-0ea1-4b79-fbcd-30a5fed7bbe4"
      },
      "execution_count": 28,
      "outputs": [
        {
          "output_type": "execute_result",
          "data": {
            "text/plain": [
              "30"
            ]
          },
          "metadata": {},
          "execution_count": 27
        },
        {
          "output_type": "execute_result",
          "data": {
            "text/plain": [
              "30"
            ]
          },
          "metadata": {},
          "execution_count": 28
        }
      ]
    },
    {
      "cell_type": "markdown",
      "source": [
        "R-1.6 Write a short Python function that takes a positive integer n and returns\n",
        "the sum of the squares of all the odd positive integers smaller than n."
      ],
      "metadata": {
        "id": "9CdJOBzGYOjH"
      }
    },
    {
      "cell_type": "code",
      "source": [
        "def sqrsum(n):\n",
        "  return(sum(k*k for k in range(n) if k%2==1))\n",
        "\n",
        "sqrsum(5)"
      ],
      "metadata": {
        "colab": {
          "base_uri": "https://localhost:8080/"
        },
        "id": "qZ8pPWoZYPq3",
        "outputId": "87332f8f-d51a-4b77-fcda-591c365a6188"
      },
      "execution_count": 32,
      "outputs": [
        {
          "output_type": "execute_result",
          "data": {
            "text/plain": [
              "10"
            ]
          },
          "metadata": {},
          "execution_count": 32
        }
      ]
    },
    {
      "cell_type": "markdown",
      "source": [
        "R-1.7 Give a single command that computes the sum from Exercise R-1.6, relying\n",
        "on Python’s comprehension syntax and the built-in sum function."
      ],
      "metadata": {
        "id": "QFBE6y9mYqHP"
      }
    },
    {
      "cell_type": "code",
      "source": [
        "def sqrsum(n):\n",
        "  return(sum(k*k for k in range(n) if k%2==1))\n",
        "\n",
        "sqrsum(5)"
      ],
      "metadata": {
        "id": "4XL-V7YRY9rt"
      },
      "execution_count": null,
      "outputs": []
    },
    {
      "cell_type": "markdown",
      "source": [
        "R-1.8 Python allows negative integers to be used as indices into a sequence,\n",
        "such as a string. If string s has length n, and expression s[k] is used for index\n",
        "−n≤k<0, what is the equivalent index j ≥0 such that s[j] references\n",
        "the same element?"
      ],
      "metadata": {
        "id": "Fe8fWRlqZADl"
      }
    },
    {
      "cell_type": "code",
      "source": [
        "s='abhyudaya'\n",
        "for i in s:\n",
        "  if s[s.index(i)]==s[-s.index(i)-1]:\n",
        "    print(True)\n",
        ""
      ],
      "metadata": {
        "colab": {
          "base_uri": "https://localhost:8080/"
        },
        "id": "FewvmaMHZE3X",
        "outputId": "b30ccd68-858a-49ac-b01d-d773143ee794"
      },
      "execution_count": 33,
      "outputs": [
        {
          "output_type": "stream",
          "name": "stdout",
          "text": [
            "True\n",
            "True\n",
            "True\n",
            "True\n"
          ]
        }
      ]
    },
    {
      "cell_type": "markdown",
      "source": [
        "R-1.9 What parameters should be sent to the range constructor, to produce a\n",
        "range with values 50, 60, 70, 80?"
      ],
      "metadata": {
        "id": "e4HhdenvaFqr"
      }
    },
    {
      "cell_type": "code",
      "source": [
        "def range_constructor():\n",
        "  return(k for k in range(50,90,10))\n",
        "for num in range_constructor():\n",
        "  print(num)"
      ],
      "metadata": {
        "colab": {
          "base_uri": "https://localhost:8080/"
        },
        "id": "lL6eJkFqaJ_Y",
        "outputId": "e298fddc-3d8c-4bb5-ba5b-3a9c0fa2081e"
      },
      "execution_count": 42,
      "outputs": [
        {
          "output_type": "stream",
          "name": "stdout",
          "text": [
            "50\n",
            "60\n",
            "70\n",
            "80\n"
          ]
        }
      ]
    },
    {
      "cell_type": "markdown",
      "source": [
        "R-1.10 What parameters should be sent to the range constructor, to produce a\n",
        "range with values 8, 6, 4, 2, 0, −2, −4, −6, −8?"
      ],
      "metadata": {
        "id": "Ky-IcoArbgJZ"
      }
    },
    {
      "cell_type": "code",
      "source": [
        "def range_constructor():\n",
        "  return(k for k in range(8,-10,-2))\n",
        "for num in range_constructor():\n",
        "  print(num,end=',')"
      ],
      "metadata": {
        "colab": {
          "base_uri": "https://localhost:8080/"
        },
        "id": "Ul0vr6Wpbj6C",
        "outputId": "6eb76190-ac03-4d21-864d-57a2312f1308"
      },
      "execution_count": 45,
      "outputs": [
        {
          "output_type": "stream",
          "name": "stdout",
          "text": [
            "8,6,4,2,0,-2,-4,-6,-8,"
          ]
        }
      ]
    },
    {
      "cell_type": "markdown",
      "source": [
        "R-1.11 Demonstrate how to use Python’s list comprehension syntax to produce\n",
        "the list [1, 2, 4, 8, 16, 32, 64, 128, 256]."
      ],
      "metadata": {
        "id": "V866IQcDbxkS"
      }
    },
    {
      "cell_type": "code",
      "source": [
        "print([2**k for k in range(9)])"
      ],
      "metadata": {
        "colab": {
          "base_uri": "https://localhost:8080/"
        },
        "id": "dKg-NqIob7g_",
        "outputId": "4beb9983-8d1e-499c-bd25-9c96f5507a9d"
      },
      "execution_count": 46,
      "outputs": [
        {
          "output_type": "stream",
          "name": "stdout",
          "text": [
            "[1, 2, 4, 8, 16, 32, 64, 128, 256]\n"
          ]
        }
      ]
    },
    {
      "cell_type": "markdown",
      "source": [
        "R-1.12 Python’s random module includes a function choice(data) that returns a\n",
        "random element from a non-empty sequence. The random module includes\n",
        "a more basic function randrange, with parameterization similar to\n",
        "the built-in range function, that return a random choice from the given\n",
        "range. Using only the randrange function, implement your own version\n",
        "of the choice function."
      ],
      "metadata": {
        "id": "C5MwFSRScWhV"
      }
    },
    {
      "cell_type": "code",
      "source": [
        "from random import randrange\n",
        "def choice(data):\n",
        "  return(data[randrange(len(data))])\n",
        "choice([1,2,3,4,5])"
      ],
      "metadata": {
        "colab": {
          "base_uri": "https://localhost:8080/"
        },
        "id": "6c-x3OeAcadu",
        "outputId": "4e9dd7a9-f5fc-4240-f4d4-f274e6f263d5"
      },
      "execution_count": 51,
      "outputs": [
        {
          "output_type": "execute_result",
          "data": {
            "text/plain": [
              "1"
            ]
          },
          "metadata": {},
          "execution_count": 51
        }
      ]
    }
  ]
}